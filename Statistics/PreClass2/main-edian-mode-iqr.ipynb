{
 "cells": [
  {
   "cell_type": "code",
   "execution_count": 1,
   "id": "0641dbe9",
   "metadata": {},
   "outputs": [],
   "source": [
    "import numpy as np \n",
    "from scipy import stats"
   ]
  },
  {
   "cell_type": "code",
   "execution_count": 12,
   "id": "fee650bd",
   "metadata": {},
   "outputs": [],
   "source": [
    "salary=[102,33,26,27,30,25,33,33,24]"
   ]
  },
  {
   "cell_type": "code",
   "execution_count": 13,
   "id": "a1451909",
   "metadata": {},
   "outputs": [
    {
     "name": "stdout",
     "output_type": "stream",
     "text": [
      "mean: 37.0\n"
     ]
    }
   ],
   "source": [
    "mean_salary=np.mean(salary)\n",
    "print(\"mean:\",mean_salary)"
   ]
  },
  {
   "cell_type": "code",
   "execution_count": 14,
   "id": "6f4aff35",
   "metadata": {},
   "outputs": [
    {
     "name": "stdout",
     "output_type": "stream",
     "text": [
      "median: 30.0\n"
     ]
    }
   ],
   "source": [
    "median_salary=np.median(salary)\n",
    "print(\"median:\",median_salary)"
   ]
  },
  {
   "cell_type": "code",
   "execution_count": 15,
   "id": "cd740dac",
   "metadata": {},
   "outputs": [
    {
     "name": "stdout",
     "output_type": "stream",
     "text": [
      "mode: ModeResult(mode=array([33]), count=array([3]))\n"
     ]
    }
   ],
   "source": [
    "mode_salary=stats.mode(salary)\n",
    "print(\"mode:\",mode_salary)"
   ]
  },
  {
   "cell_type": "code",
   "execution_count": 16,
   "id": "90e659c9",
   "metadata": {},
   "outputs": [],
   "source": [
    "data=[100, 55, 95, 150, 101, 99, 53, 57, 70]"
   ]
  },
  {
   "cell_type": "code",
   "execution_count": 17,
   "id": "90b8a306",
   "metadata": {},
   "outputs": [],
   "source": [
    "data_median=np.median(data)"
   ]
  },
  {
   "cell_type": "code",
   "execution_count": 18,
   "id": "9e71882d",
   "metadata": {},
   "outputs": [
    {
     "data": {
      "text/plain": [
       "95.0"
      ]
     },
     "execution_count": 18,
     "metadata": {},
     "output_type": "execute_result"
    }
   ],
   "source": [
    "data_median"
   ]
  },
  {
   "cell_type": "code",
   "execution_count": 19,
   "id": "9f7db417",
   "metadata": {},
   "outputs": [
    {
     "name": "stdout",
     "output_type": "stream",
     "text": [
      "Range: 78\n"
     ]
    }
   ],
   "source": [
    "print(\"Range:\",(np.max(salary)-np.min(salary)))"
   ]
  },
  {
   "cell_type": "code",
   "execution_count": 20,
   "id": "37d07f6d",
   "metadata": {},
   "outputs": [
    {
     "name": "stdout",
     "output_type": "stream",
     "text": [
      "Variance: 539.5555555555555\n"
     ]
    }
   ],
   "source": [
    "print(\"Variance:\",(np.var(salary)))"
   ]
  },
  {
   "cell_type": "code",
   "execution_count": 21,
   "id": "9e051cb4",
   "metadata": {},
   "outputs": [
    {
     "name": "stdout",
     "output_type": "stream",
     "text": [
      "Std: 23.22833518691246\n"
     ]
    }
   ],
   "source": [
    "print(\"Std:\",(np.std(salary)))"
   ]
  },
  {
   "cell_type": "code",
   "execution_count": 22,
   "id": "87bd7267",
   "metadata": {},
   "outputs": [
    {
     "name": "stdout",
     "output_type": "stream",
     "text": [
      "Q1: 26.0\n"
     ]
    }
   ],
   "source": [
    "print(\"Q1:\",(np.percentile(salary,25)))"
   ]
  },
  {
   "cell_type": "code",
   "execution_count": 23,
   "id": "3587782b",
   "metadata": {},
   "outputs": [
    {
     "name": "stdout",
     "output_type": "stream",
     "text": [
      "Q2: 30.0\n"
     ]
    }
   ],
   "source": [
    "print(\"Q2:\",(np.percentile(salary,50)))  #Q2 also called median"
   ]
  },
  {
   "cell_type": "code",
   "execution_count": 24,
   "id": "cc087857",
   "metadata": {},
   "outputs": [
    {
     "name": "stdout",
     "output_type": "stream",
     "text": [
      "Q3: 33.0\n"
     ]
    }
   ],
   "source": [
    "print(\"Q3:\",(np.percentile(salary,75)))"
   ]
  },
  {
   "cell_type": "code",
   "execution_count": 25,
   "id": "9f698229",
   "metadata": {},
   "outputs": [
    {
     "name": "stdout",
     "output_type": "stream",
     "text": [
      "IQR: 7.0\n"
     ]
    }
   ],
   "source": [
    "print(\"IQR:\",(stats.iqr(salary)))"
   ]
  },
  {
   "cell_type": "code",
   "execution_count": 26,
   "id": "c1509384",
   "metadata": {},
   "outputs": [],
   "source": [
    "data1=[1, 10, 7, 12, 0, 30, 15, 22, 8, 2]"
   ]
  },
  {
   "cell_type": "code",
   "execution_count": 28,
   "id": "4a5ce878",
   "metadata": {},
   "outputs": [
    {
     "data": {
      "text/plain": [
       "9.089004345911603"
      ]
     },
     "execution_count": 28,
     "metadata": {},
     "output_type": "execute_result"
    }
   ],
   "source": [
    "np.std(data1)"
   ]
  },
  {
   "cell_type": "code",
   "execution_count": 29,
   "id": "a315782f",
   "metadata": {},
   "outputs": [],
   "source": [
    "data2=[9, 11, 4, 14, 8, 2, 10, 3, 10, 9, 6, 0, 1]"
   ]
  },
  {
   "cell_type": "code",
   "execution_count": 41,
   "id": "32efc533",
   "metadata": {},
   "outputs": [
    {
     "data": {
      "text/plain": [
       "7.0"
      ]
     },
     "execution_count": 41,
     "metadata": {},
     "output_type": "execute_result"
    }
   ],
   "source": [
    "stats.iqr(data2)"
   ]
  },
  {
   "cell_type": "code",
   "execution_count": 42,
   "id": "d9b42124",
   "metadata": {},
   "outputs": [],
   "source": [
    "data3=[8, 10, 4, 24, 8, 3, 10, 3, 40, 7, 6, 12, 4]"
   ]
  },
  {
   "cell_type": "code",
   "execution_count": 43,
   "id": "5542a86b",
   "metadata": {},
   "outputs": [
    {
     "data": {
      "text/plain": [
       "6.0"
      ]
     },
     "execution_count": 43,
     "metadata": {},
     "output_type": "execute_result"
    }
   ],
   "source": [
    "stats.iqr(data3)"
   ]
  },
  {
   "cell_type": "code",
   "execution_count": null,
   "id": "0959aacc",
   "metadata": {},
   "outputs": [],
   "source": []
  }
 ],
 "metadata": {
  "kernelspec": {
   "display_name": "Python 3 (ipykernel)",
   "language": "python",
   "name": "python3"
  },
  "language_info": {
   "codemirror_mode": {
    "name": "ipython",
    "version": 3
   },
   "file_extension": ".py",
   "mimetype": "text/x-python",
   "name": "python",
   "nbconvert_exporter": "python",
   "pygments_lexer": "ipython3",
   "version": "3.9.7"
  }
 },
 "nbformat": 4,
 "nbformat_minor": 5
}
